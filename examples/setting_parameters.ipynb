{
 "cells": [
  {
   "cell_type": "markdown",
   "metadata": {},
   "source": [
    "# Defining Virtual Species Characteristics\n",
    "\n",
    "\n",
    "## How many iterations?\n",
    "\n",
    "An important consideration for developing virtual species with a cellular automata is how long should the simulation run for? The answer to this may be dependent on the aims of the overall experiment. For example, below we implement a simulation with a static habitat suitability map. As such there is no expectation to observer range expansion, contraction or shitfts. Rather we would expect the species distribution to reach equilibrium, where it consistently occupies a certain range, with random fluctuations due to the extinction and colonisation processes.\n",
    "\n",
    "As such, we can try to approximately find how many iterations it takes for simulations to reach equilibrium."
   ]
  },
  {
   "cell_type": "code",
   "execution_count": 4,
   "metadata": {},
   "outputs": [
    {
     "data": {
      "image/png": "[encoded data removed]",
      "text/plain": [
       "Figure(PyObject <Figure size 640x480 with 1 Axes>)"
      ]
     },
     "metadata": {},
     "output_type": "display_data"
    },
    {
     "name": "stderr",
     "output_type": "stream",
     "text": [
      "WARNING: replacing module SpatialVirtualSpecies.\n"
     ]
    },
    {
     "data": {
      "text/plain": [
       "PyObject <matplotlib.image.AxesImage object at 0x000000007FAF5340>"
      ]
     },
     "execution_count": 4,
     "metadata": {},
     "output_type": "execute_result"
    }
   ],
   "source": [
    "include(\"D:/git/SpatialVirtualSpecies/src/SpatialVirtualSpecies.jl\")\n",
    "using .SpatialVirtualSpecies\n",
    "using DataFrames,DelimitedFiles\n",
    "using PyPlot\n",
    "\n",
    "header = SpatialVirtualSpecies.getHeader(\"D:/PHDExperimentOutputs/Transferability/landscapes/suitability/suitability789.asc\",6)\n",
    "suitability = readdlm(\"D:/PHDExperimentOutputs/Transferability/landscapes/suitability/suitability789.asc\",skipstart=6)\n",
    "pa = SpatialVirtualSpecies.generateStateLayer(suitability,0.01,(0.4,1.0))\n",
    "# Create cartesian index \n",
    "paIdx = CartesianIndices(suitability)\n",
    "# Define POS parameter constructors\n",
    "pos_params = SpatialVirtualSpecies.ExponentialPosSelector(3)\n",
    "# Define dispersal parameters\n",
    "cp = SpatialVirtualSpecies.ColoniseParameters(pos_params,0.2)\n",
    "#Create simulation constructor\n",
    "ca = SpatialVirtualSpecies.SpeciesCellularAutomata(pa,paIdx,suitability,suitability)\n",
    "imshow(ca.pa)"
   ]
  },
  {
   "cell_type": "markdown",
   "metadata": {},
   "source": [
    "In this example we use the prevalence of the species as the metric to define equilibrium. We have defined a function similar to the simulation function defined in the {LINK} example, except we nest the simulation for loop within another loop in order to perform replicate simulations. After each colonise and extinction process within an interation of a simulation we calculate how many cells are occupied and divide by the total number of cells to get the prevalence, then store this in a data frame.\n"
   ]
  },
  {
   "cell_type": "code",
   "execution_count": 7,
   "metadata": {},
   "outputs": [
    {
     "data": {
      "text/html": [
       "<div class=\"data-frame\"><p>10,000 rows × 3 columns</p><table class=\"data-frame\"><thead><tr><th></th><th>rep</th><th>timestep</th><th>nOcc</th></tr><tr><th></th><th title=\"String\">String</th><th title=\"Int64\">Int64</th><th title=\"Float64\">Float64</th></tr></thead><tbody><tr><th>1</th><td>1</td><td>1</td><td>0.00298125</td></tr><tr><th>2</th><td>1</td><td>2</td><td>0.00233125</td></tr><tr><th>3</th><td>1</td><td>3</td><td>0.00183125</td></tr><tr><th>4</th><td>1</td><td>4</td><td>0.0016125</td></tr><tr><th>5</th><td>1</td><td>5</td><td>0.00145</td></tr><tr><th>6</th><td>1</td><td>6</td><td>0.00134375</td></tr><tr><th>7</th><td>1</td><td>7</td><td>0.0012625</td></tr><tr><th>8</th><td>1</td><td>8</td><td>0.00113125</td></tr><tr><th>9</th><td>1</td><td>9</td><td>0.00111875</td></tr><tr><th>10</th><td>1</td><td>10</td><td>0.0011625</td></tr><tr><th>11</th><td>1</td><td>11</td><td>0.00118125</td></tr><tr><th>12</th><td>1</td><td>12</td><td>0.0011625</td></tr><tr><th>13</th><td>1</td><td>13</td><td>0.0011875</td></tr><tr><th>14</th><td>1</td><td>14</td><td>0.0012125</td></tr><tr><th>15</th><td>1</td><td>15</td><td>0.0012125</td></tr><tr><th>16</th><td>1</td><td>16</td><td>0.00125</td></tr><tr><th>17</th><td>1</td><td>17</td><td>0.0011625</td></tr><tr><th>18</th><td>1</td><td>18</td><td>0.00121875</td></tr><tr><th>19</th><td>1</td><td>19</td><td>0.00125625</td></tr><tr><th>20</th><td>1</td><td>20</td><td>0.0012375</td></tr><tr><th>21</th><td>1</td><td>21</td><td>0.00129375</td></tr><tr><th>22</th><td>1</td><td>22</td><td>0.0013875</td></tr><tr><th>23</th><td>1</td><td>23</td><td>0.00145625</td></tr><tr><th>24</th><td>1</td><td>24</td><td>0.0015875</td></tr><tr><th>25</th><td>1</td><td>25</td><td>0.001575</td></tr><tr><th>26</th><td>1</td><td>26</td><td>0.0016125</td></tr><tr><th>27</th><td>1</td><td>27</td><td>0.00173125</td></tr><tr><th>28</th><td>1</td><td>28</td><td>0.00176875</td></tr><tr><th>29</th><td>1</td><td>29</td><td>0.00183125</td></tr><tr><th>30</th><td>1</td><td>30</td><td>0.00195</td></tr><tr><th>&vellip;</th><td>&vellip;</td><td>&vellip;</td><td>&vellip;</td></tr></tbody></table></div>"
      ],
      "text/latex": [
       "\\begin{tabular}{r|ccc}\n",
       "\t& rep & timestep & nOcc\\\\\n",
       "\t\\hline\n",
       "\t& String & Int64 & Float64\\\\\n",
       "\t\\hline\n",
       "\t1 & 1 & 1 & 0.00298125 \\\\\n",
       "\t2 & 1 & 2 & 0.00233125 \\\\\n",
       "\t3 & 1 & 3 & 0.00183125 \\\\\n",
       "\t4 & 1 & 4 & 0.0016125 \\\\\n",
       "\t5 & 1 & 5 & 0.00145 \\\\\n",
       "\t6 & 1 & 6 & 0.00134375 \\\\\n",
       "\t7 & 1 & 7 & 0.0012625 \\\\\n",
       "\t8 & 1 & 8 & 0.00113125 \\\\\n",
       "\t9 & 1 & 9 & 0.00111875 \\\\\n",
       "\t10 & 1 & 10 & 0.0011625 \\\\\n",
       "\t11 & 1 & 11 & 0.00118125 \\\\\n",
       "\t12 & 1 & 12 & 0.0011625 \\\\\n",
       "\t13 & 1 & 13 & 0.0011875 \\\\\n",
       "\t14 & 1 & 14 & 0.0012125 \\\\\n",
       "\t15 & 1 & 15 & 0.0012125 \\\\\n",
       "\t16 & 1 & 16 & 0.00125 \\\\\n",
       "\t17 & 1 & 17 & 0.0011625 \\\\\n",
       "\t18 & 1 & 18 & 0.00121875 \\\\\n",
       "\t19 & 1 & 19 & 0.00125625 \\\\\n",
       "\t20 & 1 & 20 & 0.0012375 \\\\\n",
       "\t21 & 1 & 21 & 0.00129375 \\\\\n",
       "\t22 & 1 & 22 & 0.0013875 \\\\\n",
       "\t23 & 1 & 23 & 0.00145625 \\\\\n",
       "\t24 & 1 & 24 & 0.0015875 \\\\\n",
       "\t25 & 1 & 25 & 0.001575 \\\\\n",
       "\t26 & 1 & 26 & 0.0016125 \\\\\n",
       "\t27 & 1 & 27 & 0.00173125 \\\\\n",
       "\t28 & 1 & 28 & 0.00176875 \\\\\n",
       "\t29 & 1 & 29 & 0.00183125 \\\\\n",
       "\t30 & 1 & 30 & 0.00195 \\\\\n",
       "\t$\\dots$ & $\\dots$ & $\\dots$ & $\\dots$ \\\\\n",
       "\\end{tabular}\n"
      ],
      "text/plain": [
       "\u001b[1m10000×3 DataFrame\u001b[0m\n",
       "\u001b[1m   Row \u001b[0m│\u001b[1m rep    \u001b[0m\u001b[1m timestep \u001b[0m\u001b[1m nOcc       \u001b[0m\n",
       "\u001b[1m       \u001b[0m│\u001b[90m String \u001b[0m\u001b[90m Int64    \u001b[0m\u001b[90m Float64    \u001b[0m\n",
       "───────┼──────────────────────────────\n",
       "     1 │ 1              1  0.00298125\n",
       "     2 │ 1              2  0.00233125\n",
       "     3 │ 1              3  0.00183125\n",
       "     4 │ 1              4  0.0016125\n",
       "     5 │ 1              5  0.00145\n",
       "     6 │ 1              6  0.00134375\n",
       "     7 │ 1              7  0.0012625\n",
       "     8 │ 1              8  0.00113125\n",
       "     9 │ 1              9  0.00111875\n",
       "    10 │ 1             10  0.0011625\n",
       "    11 │ 1             11  0.00118125\n",
       "   ⋮   │   ⋮        ⋮          ⋮\n",
       "  9991 │ 10           991  0.0156063\n",
       "  9992 │ 10           992  0.0157312\n",
       "  9993 │ 10           993  0.0158375\n",
       "  9994 │ 10           994  0.0156563\n",
       "  9995 │ 10           995  0.0155125\n",
       "  9996 │ 10           996  0.0154938\n",
       "  9997 │ 10           997  0.0156063\n",
       "  9998 │ 10           998  0.0155812\n",
       "  9999 │ 10           999  0.01575\n",
       " 10000 │ 10          1000  0.0155062\n",
       "\u001b[36m                     9979 rows omitted\u001b[0m"
      ]
     },
     "execution_count": 7,
     "metadata": {},
     "output_type": "execute_result"
    }
   ],
   "source": [
    "function speciesPrevalenceOverTime(ca,maxIterations,nReps)\n",
    "    results = DataFrame(rep = String[], timestep = Int64[], nOcc = Float64[])\n",
    "    for rep in 1:nReps\n",
    "        for i in 1:maxIterations\n",
    "            SpatialVirtualSpecies.colonise(ca,cp)\n",
    "            SpatialVirtualSpecies.extinction(ca)\n",
    "            prev = sum(ca.pa)/160000\n",
    "            push!(results,[string(rep) i prev])\n",
    "        end\n",
    "        # Reset state layer\n",
    "        ca.pa = SpatialVirtualSpecies.generateStateLayer(suitability,0.01,(0.,1.0))\n",
    "    end\n",
    "    return(results)\n",
    "end\n",
    "# Reset occurrence state layer\n",
    "ca.pa = SpatialVirtualSpecies.generateStateLayer(suitability,0.01,(0.4,1.0))\n",
    "stabilityTests = speciesPrevalenceOverTime(ca,1000,10)"
   ]
  },
  {
   "cell_type": "markdown",
   "metadata": {},
   "source": [
    "We can see that after ~200 iterations the prevalence of the species stabilises and oscilates around a prevalence of ~1.2%. Therefore if we wanted to generate a set of replicate simulation maps, running simulations with 200-250 repetitions should be adequate. Increasing the repetitions in this instance would simply increase computation time unnecessarily."
   ]
  },
  {
   "cell_type": "code",
   "execution_count": 6,
   "metadata": {},
   "outputs": [
    {
     "ename": "LoadError",
     "evalue": "UndefVarError: stabilityTests not defined",
     "output_type": "error",
     "traceback": [
      "UndefVarError: stabilityTests not defined",
      "",
      "Stacktrace:",
      " [1] top-level scope",
      "   @ In[6]:2",
      " [2] eval",
      "   @ .\\boot.jl:373 [inlined]",
      " [3] include_string(mapexpr::typeof(REPL.softscope), mod::Module, code::String, filename::String)",
      "   @ Base .\\loading.jl:1196"
     ]
    }
   ],
   "source": [
    "using VegaLite\n",
    "stabilityTests |> @vlplot(:line,x=:timestep,y=:nOcc,color=:rep,width=600,height=300)"
   ]
  },
  {
   "cell_type": "markdown",
   "metadata": {},
   "source": [
    "## What dispersal parameters should I choose?"
   ]
  },
  {
   "cell_type": "code",
   "execution_count": null,
   "metadata": {},
   "outputs": [],
   "source": []
  },
  {
   "cell_type": "markdown",
   "metadata": {},
   "source": [
    "## What neighbourhood parameters should I choose?"
   ]
  },
  {
   "cell_type": "code",
   "execution_count": null,
   "metadata": {},
   "outputs": [],
   "source": []
  }
 ],
 "metadata": {
  "kernelspec": {
   "display_name": "Julia 1.7.0",
   "language": "julia",
   "name": "julia-1.7"
  },
  "language_info": {
   "file_extension": ".jl",
   "mimetype": "application/julia",
   "name": "julia",
   "version": "1.7.0"
  }
 },
 "nbformat": 4,
 "nbformat_minor": 2
}
